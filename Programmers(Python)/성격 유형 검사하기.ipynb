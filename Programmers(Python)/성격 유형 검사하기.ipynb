{
 "cells": [
  {
   "cell_type": "code",
   "execution_count": 33,
   "metadata": {},
   "outputs": [],
   "source": [
    "def solution(survey, choices):\n",
    "    \n",
    "    getCount = {\"R\": 0, \"T\": 0, \"C\": 0, \"F\": 0, \"J\": 0, \"M\": 0, \"A\": 0, \"N\": 0}\n",
    "    \n",
    "    # 딕셔너리에 점수 넣기\n",
    "    for i in range(len(survey)):\n",
    "        if choices[i] > 4:\n",
    "            getCount[survey[i][1]] += choices[i] - 4\n",
    "        elif choices[i] < 4:\n",
    "            getCount[survey[i][0]] += 4 - choices[i]\n",
    "    \n",
    "    types = [] \n",
    "    keys = list(getCount.keys())  # 키로 리스트 만들기\n",
    "    \n",
    "    # 확장성을 고려해서 키쌍이 같이 움직일 수 있도록 미리 만들어두기\n",
    "    for i in range(0, len(keys), 2):\n",
    "        types.append(keys[i] + keys[i+1])\n",
    "    \n",
    "    # 정답 뱉기\n",
    "    answer = \"\"\n",
    "    \n",
    "    for t in types:\n",
    "        if getCount[t[0]] >= getCount[t[1]]:\n",
    "            answer += sorted(t)[0]\n",
    "        else:\n",
    "            answer += sorted(t)[1]\n",
    "            \n",
    "    return answer"
   ]
  },
  {
   "cell_type": "code",
   "execution_count": 38,
   "metadata": {},
   "outputs": [
    {
     "name": "stdout",
     "output_type": "stream",
     "text": [
      "RCJA\n"
     ]
    }
   ],
   "source": [
    "print(solution(survey, choices))"
   ]
  },
  {
   "cell_type": "code",
   "execution_count": 37,
   "metadata": {},
   "outputs": [],
   "source": [
    "survey = [\"TR\", \"RT\", \"TR\"]\n",
    "choices = [7, 1, 3]"
   ]
  },
  {
   "cell_type": "code",
   "execution_count": 35,
   "metadata": {},
   "outputs": [],
   "source": [
    "survey = [\"AN\", \"CF\", \"MJ\", \"RT\", \"NA\"]\n",
    "choices = [5, 3, 2, 7, 5]"
   ]
  }
 ],
 "metadata": {
  "kernelspec": {
   "display_name": "base",
   "language": "python",
   "name": "python3"
  },
  "language_info": {
   "codemirror_mode": {
    "name": "ipython",
    "version": 3
   },
   "file_extension": ".py",
   "mimetype": "text/x-python",
   "name": "python",
   "nbconvert_exporter": "python",
   "pygments_lexer": "ipython3",
   "version": "3.11.5"
  }
 },
 "nbformat": 4,
 "nbformat_minor": 2
}
